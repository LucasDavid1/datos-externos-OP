{
 "cells": [
  {
   "cell_type": "code",
   "execution_count": 1,
   "metadata": {},
   "outputs": [],
   "source": [
    "from os import listdir\n",
    "from os.path import isfile, join, exists\n",
    "import pandas as pd\n",
    "import io\n",
    "import numpy as np\n",
    "import re\n",
    "import xlrd\n",
    "from datetime import datetime"
   ]
  },
  {
   "cell_type": "code",
   "execution_count": 2,
   "metadata": {},
   "outputs": [],
   "source": [
    "def pandas2csv(df,path):\n",
    "    base_path = \"/home/antarctic/Documents/OpenDat/\"\n",
    "    sep = ','\n",
    "    index = False\n",
    "    header = True\n",
    "    encoding = 'latin-1'\n",
    "    df.to_csv(base_path+path,\n",
    "              index=index,\n",
    "              sep=sep,\n",
    "              header=header,\n",
    "              encoding=encoding\n",
    "              )"
   ]
  },
  {
   "cell_type": "code",
   "execution_count": 24,
   "metadata": {},
   "outputs": [],
   "source": [
    "df1=pd.read_excel('/home/antarctic/Documents/OpenDat/PUB_Reg_Com_Rub_Sub_Act.xlsx',sheet_name='P1_EMP_Reg_Com_Rub_Sub_Act')\n",
    "df2=pd.read_excel('/home/antarctic/Documents/OpenDat/PUB_Reg_Com_Rub_Sub_Act.xlsx',sheet_name='P2_EMP_Reg_Com_Rub_Sub_Act')\n",
    "df3=pd.read_excel('/home/antarctic/Documents/OpenDat/PUB_Reg_Com_Rub_Sub_Act.xlsx',sheet_name='P3_EMP_Reg_Com_Rub_Sub_Act')"
   ]
  },
  {
   "cell_type": "code",
   "execution_count": 25,
   "metadata": {
    "scrolled": true
   },
   "outputs": [],
   "source": [
    "df1['FECHA'] = '01-01-'+ df1['Año Comercial'].astype(str)\n",
    "df1['FECHA'] =  pd.to_datetime(df1['FECHA'], format='%d-%m-%Y')\n",
    "df1=df1.drop(columns=['Año Comercial'])\n",
    "df1 = df1.rename(columns={'Número de Empresas': 'Numero_Empresas','Ventas (UF)':'Ventas_UF','Número de Trabajadores Dependientes Informados':'Trabajadores_dependientes_informados','Renta Neta Informada de Trabajadores Dependientes (UF)':'Renta_neta_trabajadores_UF'})\n",
    "df1=df1.replace('*', np.nan)\n",
    "\n",
    "df2['FECHA'] = '01-01-'+ df2['Año Comercial'].astype(str)\n",
    "df2['FECHA'] =  pd.to_datetime(df2['FECHA'], format='%d-%m-%Y')\n",
    "df2=df2.drop(columns=['Año Comercial'])\n",
    "df2 = df2.rename(columns={'Número de Empresas': 'Numero_Empresas','Ventas (UF)':'Ventas_UF','Número de Trabajadores Dependientes Informados':'Trabajadores_dependientes_informados','Renta Neta Informada de Trabajadores Dependientes (UF)':'Renta_neta_trabajadores_UF'})\n",
    "df2=df2.replace('*', np.nan)\n",
    "\n",
    "df3['FECHA'] = '01-01-'+ df3['Año Comercial'].astype(str)\n",
    "df3['FECHA'] =  pd.to_datetime(df3['FECHA'], format='%d-%m-%Y')\n",
    "df3=df3.drop(columns=['Año Comercial'])\n",
    "df3 = df3.rename(columns={'Número de Empresas': 'Numero_Empresas','Ventas (UF)':'Ventas_UF','Número de Trabajadores Dependientes Informados':'Trabajadores_dependientes_informados','Renta Neta Informada de Trabajadores Dependientes (UF)':'Renta_neta_trabajadores_UF'})\n",
    "df3=df3.replace('*', np.nan)"
   ]
  },
  {
   "cell_type": "code",
   "execution_count": 26,
   "metadata": {},
   "outputs": [],
   "source": [
    "listLines=[]\n",
    "listLines.append(df1)\n",
    "listLines.append(df2)\n",
    "listLines.append(df3)\n",
    "output = pd.concat(listLines)\n",
    "output_path = \"Ventas_rubro.csv\"\n",
    "pandas2csv(output,output_path)   "
   ]
  },
  {
   "cell_type": "code",
   "execution_count": null,
   "metadata": {},
   "outputs": [],
   "source": []
  }
 ],
 "metadata": {
  "kernelspec": {
   "display_name": "Python 3",
   "language": "python",
   "name": "python3"
  },
  "language_info": {
   "codemirror_mode": {
    "name": "ipython",
    "version": 3
   },
   "file_extension": ".py",
   "mimetype": "text/x-python",
   "name": "python",
   "nbconvert_exporter": "python",
   "pygments_lexer": "ipython3",
   "version": "3.7.1"
  }
 },
 "nbformat": 4,
 "nbformat_minor": 2
}
